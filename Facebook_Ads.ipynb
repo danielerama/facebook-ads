{
 "cells": [
  {
   "cell_type": "markdown",
   "metadata": {},
   "source": [
    "# Using the Facebook Marketing API"
   ]
  },
  {
   "cell_type": "markdown",
   "metadata": {},
   "source": [
    "## 01. Create an App and get your credentials\n",
    "\n",
    "See *pdf* file."
   ]
  },
  {
   "cell_type": "markdown",
   "metadata": {},
   "source": [
    "## 02. Install the Facebook Business SDK for Python\n",
    "\n",
    "https://github.com/facebook/facebook-python-business-sdk?fbclid=IwAR2bljwm_1KFMrqUGcgEJiCMSp3G8NaIoZQfuklJn05N7mHqgCkObLrV2BI"
   ]
  },
  {
   "cell_type": "code",
   "execution_count": 2,
   "metadata": {},
   "outputs": [],
   "source": [
    "from facebook_business.api import FacebookAdsApi\n",
    "from facebook_business.adobjects.adaccount import AdAccount"
   ]
  },
  {
   "cell_type": "markdown",
   "metadata": {},
   "source": [
    "### Test your installation"
   ]
  },
  {
   "cell_type": "code",
   "execution_count": 3,
   "metadata": {},
   "outputs": [
    {
     "name": "stdout",
     "output_type": "stream",
     "text": [
      "[]\n"
     ]
    }
   ],
   "source": [
    "my_app_id = 'your_app_id'\n",
    "my_app_secret = 'your_app_secret'\n",
    "my_access_token = 'your_access_token'\n",
    "FacebookAdsApi.init(my_app_id, my_app_secret, my_access_token)\n",
    "my_account = AdAccount('your_act_id')\n",
    "campaigns = my_account.get_campaigns()\n",
    "print(campaigns)"
   ]
  },
  {
   "cell_type": "markdown",
   "metadata": {},
   "source": [
    "## 03. Targeting options\n",
    "\n",
    "https://developers.facebook.com/docs/marketing-api/audiences/reference/basic-targeting/"
   ]
  },
  {
   "cell_type": "markdown",
   "metadata": {},
   "source": [
    "### Basic example"
   ]
  },
  {
   "cell_type": "markdown",
   "metadata": {},
   "source": [
    "People living in Italy on Facebook."
   ]
  },
  {
   "cell_type": "code",
   "execution_count": 13,
   "metadata": {},
   "outputs": [
    {
     "data": {
      "text/plain": [
       "[<AdAccountDeliveryEstimate> {\n",
       "    \"daily_outcomes_curve\": [\n",
       "        {\n",
       "            \"actions\": 0,\n",
       "            \"impressions\": 0,\n",
       "            \"reach\": 0,\n",
       "            \"spend\": 0\n",
       "        }\n",
       "    ],\n",
       "    \"estimate_dau\": 22933657,\n",
       "    \"estimate_mau\": 29000000,\n",
       "    \"estimate_ready\": true\n",
       "}]"
      ]
     },
     "execution_count": 13,
     "metadata": {},
     "output_type": "execute_result"
    }
   ],
   "source": [
    "from facebook_business.api import FacebookAdsApi\n",
    "from facebook_business.adobjects.adaccount import AdAccount\n",
    "from facebook_business.api import FacebookSession\n",
    "\n",
    "# Initializing objects\n",
    "my_app_id = '395433074210710'\n",
    "my_app_secret = '05696b02218945ddc54a57f007a40efe'\n",
    "my_access_token = 'EAAFnpOZCrt5YBAAoZA81kRyD0uRCA3HM4esY4uXfbZCXmpLzZClDfWO7jWTeCp6z9jrWXTEfJKZAz5Ini7ql3py4BKOsUhQlVDtCFIDJAflzxYiaA5vbZBkQzXfh6C2E3bWZBu7VA3qAfGNaGd4xZAoSMVHP6qfpsjGZBENaTH5pkEgZDZD'\n",
    "FacebookAdsApi.init(my_app_id, my_app_secret, my_access_token)\n",
    "my_account = AdAccount('act_93633770')\n",
    "\n",
    "# Defining targeting specifications\n",
    "targeting_spec = {\n",
    "    'geo_locations':{\n",
    "        'countries':['IT'],\n",
    "        'location_types':['home']\n",
    "    },\n",
    "    'publisher_platforms':['facebook'],\n",
    "    'age_min':18,\n",
    "    'age_max':65\n",
    "}\n",
    "\n",
    "params = {\n",
    "    'optimization_goal':'REACH',\n",
    "    'targeting_spec':targeting_spec\n",
    "}\n",
    "\n",
    "# Getting audience\n",
    "my_account.get_delivery_estimate(params=params)"
   ]
  },
  {
   "cell_type": "markdown",
   "metadata": {},
   "source": [
    "Males living in Italy on Facebook."
   ]
  },
  {
   "cell_type": "code",
   "execution_count": 13,
   "metadata": {},
   "outputs": [
    {
     "data": {
      "text/plain": [
       "[<AdAccountDeliveryEstimate> {\n",
       "    \"daily_outcomes_curve\": [\n",
       "        {\n",
       "            \"actions\": 0,\n",
       "            \"impressions\": 0,\n",
       "            \"reach\": 0,\n",
       "            \"spend\": 0\n",
       "        }\n",
       "    ],\n",
       "    \"estimate_dau\": 22933657,\n",
       "    \"estimate_mau\": 29000000,\n",
       "    \"estimate_ready\": true\n",
       "}]"
      ]
     },
     "execution_count": 13,
     "metadata": {},
     "output_type": "execute_result"
    }
   ],
   "source": [
    "from facebook_business.api import FacebookAdsApi\n",
    "from facebook_business.adobjects.adaccount import AdAccount\n",
    "from facebook_business.api import FacebookSession\n",
    "\n",
    "# Initializing objects\n",
    "my_app_id = '395433074210710'\n",
    "my_app_secret = '05696b02218945ddc54a57f007a40efe'\n",
    "my_access_token = 'EAAFnpOZCrt5YBAAoZA81kRyD0uRCA3HM4esY4uXfbZCXmpLzZClDfWO7jWTeCp6z9jrWXTEfJKZAz5Ini7ql3py4BKOsUhQlVDtCFIDJAflzxYiaA5vbZBkQzXfh6C2E3bWZBu7VA3qAfGNaGd4xZAoSMVHP6qfpsjGZBENaTH5pkEgZDZD'\n",
    "FacebookAdsApi.init(my_app_id, my_app_secret, my_access_token)\n",
    "my_account = AdAccount('act_93633770')\n",
    "\n",
    "# Defining targeting specifications\n",
    "targeting_spec = {\n",
    "    'geo_locations':{\n",
    "        'countries':['IT'],\n",
    "        'location_types':['home']\n",
    "    },\n",
    "    'publisher_platforms':['facebook'],\n",
    "    'age_min':18,\n",
    "    'age_max':65,\n",
    "    'genders':[1]\n",
    "}\n",
    "\n",
    "params = {\n",
    "    'optimization_goal':'REACH',\n",
    "    'targeting_spec':targeting_spec\n",
    "}\n",
    "\n",
    "# Getting audience\n",
    "my_account.get_delivery_estimate(params=params)"
   ]
  },
  {
   "cell_type": "markdown",
   "metadata": {},
   "source": [
    "People living in Agliè on Facebook."
   ]
  },
  {
   "cell_type": "code",
   "execution_count": 5,
   "metadata": {},
   "outputs": [
    {
     "data": {
      "text/plain": [
       "[<AdAccountDeliveryEstimate> {\n",
       "    \"daily_outcomes_curve\": [\n",
       "        {\n",
       "            \"actions\": 0,\n",
       "            \"impressions\": 0,\n",
       "            \"reach\": 0,\n",
       "            \"spend\": 0\n",
       "        }\n",
       "    ],\n",
       "    \"estimate_dau\": 899,\n",
       "    \"estimate_mau\": 1000,\n",
       "    \"estimate_ready\": true\n",
       "}]"
      ]
     },
     "execution_count": 5,
     "metadata": {},
     "output_type": "execute_result"
    }
   ],
   "source": [
    "from facebook_business.api import FacebookAdsApi\n",
    "from facebook_business.adobjects.adaccount import AdAccount\n",
    "from facebook_business.api import FacebookSession\n",
    "\n",
    "# Initializing objects\n",
    "my_app_id = '395433074210710'\n",
    "my_app_secret = '05696b02218945ddc54a57f007a40efe'\n",
    "my_access_token = 'EAAFnpOZCrt5YBAAoZA81kRyD0uRCA3HM4esY4uXfbZCXmpLzZClDfWO7jWTeCp6z9jrWXTEfJKZAz5Ini7ql3py4BKOsUhQlVDtCFIDJAflzxYiaA5vbZBkQzXfh6C2E3bWZBu7VA3qAfGNaGd4xZAoSMVHP6qfpsjGZBENaTH5pkEgZDZD'\n",
    "FacebookAdsApi.init(my_app_id, my_app_secret, my_access_token)\n",
    "my_account = AdAccount('act_93633770')\n",
    "\n",
    "# Defining targeting specifications\n",
    "targeting_spec = {\n",
    "    'geo_locations':{\n",
    "        'cities':[{'key':'1173735'}],\n",
    "        'location_types':['home']\n",
    "    },\n",
    "    'publisher_platforms':['facebook'],\n",
    "    'age_min':18,\n",
    "    'age_max':65\n",
    "}\n",
    "\n",
    "params = {\n",
    "    'optimization_goal':'REACH',\n",
    "    'targeting_spec':targeting_spec\n",
    "}\n",
    "\n",
    "# Getting audience\n",
    "my_account.get_delivery_estimate(params=params)"
   ]
  },
  {
   "cell_type": "markdown",
   "metadata": {},
   "source": [
    "People living in Italy and interested in *gambling* on Facebook."
   ]
  },
  {
   "cell_type": "code",
   "execution_count": 12,
   "metadata": {},
   "outputs": [
    {
     "data": {
      "text/plain": [
       "[<AdAccountDeliveryEstimate> {\n",
       "    \"daily_outcomes_curve\": [\n",
       "        {\n",
       "            \"actions\": 0,\n",
       "            \"impressions\": 0,\n",
       "            \"reach\": 0,\n",
       "            \"spend\": 0\n",
       "        }\n",
       "    ],\n",
       "    \"estimate_dau\": 0,\n",
       "    \"estimate_mau\": 5000000,\n",
       "    \"estimate_ready\": true\n",
       "}]"
      ]
     },
     "execution_count": 12,
     "metadata": {},
     "output_type": "execute_result"
    }
   ],
   "source": [
    "from facebook_business.api import FacebookAdsApi\n",
    "from facebook_business.adobjects.adaccount import AdAccount\n",
    "from facebook_business.api import FacebookSession\n",
    "\n",
    "# Initializing objects\n",
    "my_app_id = '395433074210710'\n",
    "my_app_secret = '05696b02218945ddc54a57f007a40efe'\n",
    "my_access_token = 'EAAFnpOZCrt5YBAAoZA81kRyD0uRCA3HM4esY4uXfbZCXmpLzZClDfWO7jWTeCp6z9jrWXTEfJKZAz5Ini7ql3py4BKOsUhQlVDtCFIDJAflzxYiaA5vbZBkQzXfh6C2E3bWZBu7VA3qAfGNaGd4xZAoSMVHP6qfpsjGZBENaTH5pkEgZDZD'\n",
    "FacebookAdsApi.init(my_app_id, my_app_secret, my_access_token)\n",
    "my_account = AdAccount('act_93633770')\n",
    "\n",
    "# Defining targeting specifications\n",
    "targeting_spec = {\n",
    "    'geo_locations':{\n",
    "        'countries':['IT'],\n",
    "        'location_types':['home']\n",
    "    },\n",
    "    'publisher_platforms':['facebook'],\n",
    "    'age_min':18,\n",
    "    'age_max':65,\n",
    "    'interests':[{'id':6003012317397}]\n",
    "}\n",
    "\n",
    "params = {\n",
    "    'optimization_goal':'REACH',\n",
    "    'targeting_spec':targeting_spec\n",
    "}\n",
    "\n",
    "# Getting audience\n",
    "my_account.get_delivery_estimate(params=params)"
   ]
  },
  {
   "cell_type": "markdown",
   "metadata": {},
   "source": [
    "### Targeting search"
   ]
  },
  {
   "cell_type": "code",
   "execution_count": 7,
   "metadata": {},
   "outputs": [],
   "source": [
    "from facebook_business.adobjects.targetingsearch import TargetingSearch"
   ]
  },
  {
   "cell_type": "code",
   "execution_count": 8,
   "metadata": {},
   "outputs": [
    {
     "name": "stdout",
     "output_type": "stream",
     "text": [
      "[<TargetingSearch> {\n",
      "    \"audience_size\": 402849250,\n",
      "    \"description\": \"\",\n",
      "    \"id\": \"6003012317397\",\n",
      "    \"name\": \"Gambling\",\n",
      "    \"path\": [\n",
      "        \"Interests\",\n",
      "        \"Entertainment\",\n",
      "        \"Games\",\n",
      "        \"Gambling\"\n",
      "    ],\n",
      "    \"topic\": \"News and entertainment\"\n",
      "}, <TargetingSearch> {\n",
      "    \"audience_size\": 40003750,\n",
      "    \"id\": \"6003153435265\",\n",
      "    \"name\": \"Online gambling\",\n",
      "    \"path\": [\n",
      "        \"Interests\",\n",
      "        \"Additional Interests\",\n",
      "        \"Online gambling\"\n",
      "    ],\n",
      "    \"topic\": \"Business and industry\"\n",
      "}, <TargetingSearch> {\n",
      "    \"audience_size\": 329087,\n",
      "    \"disambiguation_category\": \"Local Business\",\n",
      "    \"id\": \"6003152880949\",\n",
      "    \"name\": \"Mobile gambling\",\n",
      "    \"path\": [\n",
      "        \"Interests\",\n",
      "        \"Additional Interests\",\n",
      "        \"Mobile gambling\"\n",
      "    ],\n",
      "    \"topic\": \"Technology\"\n",
      "}, <TargetingSearch> {\n",
      "    \"audience_size\": 24897,\n",
      "    \"id\": \"6003594736673\",\n",
      "    \"name\": \"Gambling in General\",\n",
      "    \"path\": [\n",
      "        \"Interests\",\n",
      "        \"Additional Interests\",\n",
      "        \"Gambling in General\"\n",
      "    ],\n",
      "    \"topic\": \"Lifestyle and culture\"\n",
      "}, <TargetingSearch> {\n",
      "    \"audience_size\": 5204,\n",
      "    \"id\": \"6002989786120\",\n",
      "    \"name\": \"High Stakes Gambling\",\n",
      "    \"path\": [\n",
      "        \"Interests\",\n",
      "        \"Additional Interests\",\n",
      "        \"High Stakes Gambling\"\n",
      "    ],\n",
      "    \"topic\": \"News and entertainment\"\n",
      "}, <TargetingSearch> {\n",
      "    \"audience_size\": 89937000,\n",
      "    \"id\": \"6003484127669\",\n",
      "    \"name\": \"Casino\",\n",
      "    \"path\": [\n",
      "        \"Interests\",\n",
      "        \"Additional Interests\",\n",
      "        \"Casino\"\n",
      "    ],\n",
      "    \"topic\": \"Travel, places and events\"\n",
      "}, <TargetingSearch> {\n",
      "    \"audience_size\": 37057290,\n",
      "    \"id\": \"6003291736143\",\n",
      "    \"name\": \"Procter & Gamble\",\n",
      "    \"path\": [\n",
      "        \"Interests\",\n",
      "        \"Additional Interests\",\n",
      "        \"Procter & Gamble\"\n",
      "    ],\n",
      "    \"topic\": \"Business and industry\"\n",
      "}]\n"
     ]
    }
   ],
   "source": [
    "params = {\n",
    "    'q': 'gambling',\n",
    "    'type': 'adinterest'\n",
    "}\n",
    "\n",
    "resp = TargetingSearch.search(params=params)\n",
    "print(resp)"
   ]
  },
  {
   "cell_type": "code",
   "execution_count": 9,
   "metadata": {},
   "outputs": [],
   "source": [
    "import pandas as pd"
   ]
  },
  {
   "cell_type": "code",
   "execution_count": null,
   "metadata": {},
   "outputs": [],
   "source": [
    "params = {\n",
    "    'q': 'gambling',\n",
    "    'type': 'adinterest'\n",
    "}\n",
    "\n",
    "resp = TargetingSearch.search(params=params)\n",
    "pd.DataFrame(resp)"
   ]
  },
  {
   "cell_type": "code",
   "execution_count": null,
   "metadata": {},
   "outputs": [],
   "source": []
  }
 ],
 "metadata": {
  "kernelspec": {
   "display_name": "Python 3",
   "language": "python",
   "name": "python3"
  },
  "language_info": {
   "codemirror_mode": {
    "name": "ipython",
    "version": 3
   },
   "file_extension": ".py",
   "mimetype": "text/x-python",
   "name": "python",
   "nbconvert_exporter": "python",
   "pygments_lexer": "ipython3",
   "version": "3.7.6"
  }
 },
 "nbformat": 4,
 "nbformat_minor": 4
}
